{
 "cells": [
  {
   "cell_type": "code",
   "execution_count": 1,
   "id": "b53bdfff",
   "metadata": {},
   "outputs": [],
   "source": [
    "# Import the random module.\n",
    "import random"
   ]
  },
  {
   "cell_type": "code",
   "execution_count": 3,
   "id": "ee44fe81",
   "metadata": {},
   "outputs": [
    {
     "data": {
      "text/plain": [
       "27"
      ]
     },
     "execution_count": 3,
     "metadata": {},
     "output_type": "execute_result"
    }
   ],
   "source": [
    "random.randint(-90,90)"
   ]
  },
  {
   "cell_type": "code",
   "execution_count": 4,
   "id": "a8b32d7a",
   "metadata": {},
   "outputs": [
    {
     "data": {
      "text/plain": [
       "0.9857447061967052"
      ]
     },
     "execution_count": 4,
     "metadata": {},
     "output_type": "execute_result"
    }
   ],
   "source": [
    "random.random()"
   ]
  },
  {
   "cell_type": "code",
   "execution_count": 8,
   "id": "a515c9ea",
   "metadata": {},
   "outputs": [
    {
     "data": {
      "text/plain": [
       "[-24.816098339789463,\n",
       " 3.0642197853143243,\n",
       " 84.53664832980839,\n",
       " -31.76320998848791,\n",
       " -89.48567370876636,\n",
       " 68.43712682557059,\n",
       " 82.5366070306316,\n",
       " 25.77763663328897,\n",
       " 1.7294921268419179,\n",
       " 33.32172552243502]"
      ]
     },
     "execution_count": 8,
     "metadata": {},
     "output_type": "execute_result"
    }
   ],
   "source": [
    "x=1\n",
    "latitudes = []\n",
    "while x < 11:\n",
    "    random_lat = random.randint(-90,89)+random.random()\n",
    "    latitudes.append(random_lat)\n",
    "    x+=1\n",
    "latitudes"
   ]
  },
  {
   "cell_type": "code",
   "execution_count": 15,
   "id": "72ededec",
   "metadata": {},
   "outputs": [
    {
     "data": {
      "text/plain": [
       "-73"
      ]
     },
     "execution_count": 15,
     "metadata": {},
     "output_type": "execute_result"
    }
   ],
   "source": [
    "random.randrange(-90,90, step=1)"
   ]
  },
  {
   "cell_type": "code",
   "execution_count": 16,
   "id": "dbd2edf9",
   "metadata": {},
   "outputs": [
    {
     "data": {
      "text/plain": [
       "-78.1663075714697"
      ]
     },
     "execution_count": 16,
     "metadata": {},
     "output_type": "execute_result"
    }
   ],
   "source": [
    "random.uniform(-90, 90)"
   ]
  },
  {
   "cell_type": "code",
   "execution_count": 17,
   "id": "e7377d57",
   "metadata": {},
   "outputs": [],
   "source": [
    "# Import the NumPy module.\n",
    "import numpy as np"
   ]
  },
  {
   "cell_type": "code",
   "execution_count": 20,
   "id": "f5f18e09",
   "metadata": {},
   "outputs": [
    {
     "data": {
      "text/plain": [
       "-15.917609306849357"
      ]
     },
     "execution_count": 20,
     "metadata": {},
     "output_type": "execute_result"
    }
   ],
   "source": [
    "np.random.uniform(-90.000,90.000)"
   ]
  },
  {
   "cell_type": "code",
   "execution_count": 21,
   "id": "4c5e375d",
   "metadata": {},
   "outputs": [
    {
     "data": {
      "text/plain": [
       "array([ 20.78107235,  40.03737966,  46.26824692,   0.56322247,\n",
       "         8.02923962, -23.9990961 , -52.68903822, -50.16843611,\n",
       "       -81.17265937,   6.80045118,  80.39668027, -67.61625986,\n",
       "        -9.48015783, -20.10274754,  14.10657719,  36.12830655,\n",
       "       -34.2758001 ,  40.3736146 ,  12.77150153,  57.01761804,\n",
       "       -78.05190981, -51.28766174,  27.85539098,  13.50853628,\n",
       "       -50.0441188 , -25.25687498,  79.49721195, -88.16845107,\n",
       "       -76.72007503,  72.00521604,  21.02209146, -78.26705216,\n",
       "       -55.33388437,  -5.5475025 ,  23.60178923, -83.08658256,\n",
       "        85.78781168, -23.36059548,  44.63287865, -87.28789521,\n",
       "        73.57167003,  69.5342898 , -16.92692799,  25.1369065 ,\n",
       "       -51.91061787,  -7.17267069,  16.29575401, -86.66817617,\n",
       "        70.6117565 , -82.12529686])"
      ]
     },
     "execution_count": 21,
     "metadata": {},
     "output_type": "execute_result"
    }
   ],
   "source": [
    "np.random.uniform(-90.000, 90.000, size=50)"
   ]
  },
  {
   "cell_type": "code",
   "execution_count": 22,
   "id": "a93cb209",
   "metadata": {},
   "outputs": [],
   "source": [
    "# Import timeit.\n",
    "import timeit"
   ]
  },
  {
   "cell_type": "code",
   "execution_count": 26,
   "id": "2681e36a",
   "metadata": {},
   "outputs": [
    {
     "name": "stdout",
     "output_type": "stream",
     "text": [
      "21 µs ± 504 ns per loop (mean ± std. dev. of 7 runs, 10000 loops each)\n"
     ]
    }
   ],
   "source": [
    "%timeit np.random.uniform(-90.000,90.000, size=1500)"
   ]
  },
  {
   "cell_type": "code",
   "execution_count": 28,
   "id": "7fb52564",
   "metadata": {},
   "outputs": [
    {
     "name": "stdout",
     "output_type": "stream",
     "text": [
      "2.99 ms ± 125 µs per loop (mean ± std. dev. of 7 runs, 100 loops each)\n"
     ]
    }
   ],
   "source": [
    "def latitudes(size):\n",
    "    latitudes = []\n",
    "    x=0\n",
    "    while x < (size):\n",
    "        random_lat = random.randint(-90,90)+random.random()\n",
    "        latitudes.append(random_lat)\n",
    "        x+=1\n",
    "    return latitudes\n",
    "#call the function with 1500\n",
    "%timeit latitudes(1500)"
   ]
  },
  {
   "cell_type": "code",
   "execution_count": 7,
   "id": "d762fbc5",
   "metadata": {},
   "outputs": [],
   "source": [
    "# Import linear regression from the SciPy stats module.\n",
    "from scipy.stats import linregress"
   ]
  },
  {
   "cell_type": "code",
   "execution_count": 8,
   "id": "f46f9c7d",
   "metadata": {},
   "outputs": [],
   "source": [
    "# Create an equal number of latitudes and temperatures.\n",
    "lats = [42.5, 43.9, 8.1, 36.8, 79.9, 69.1, 25.7, 15.3, 12.7, 64.5]\n",
    "temps = [80.5, 75.3, 90.9, 90.0, 40.4, 62.3, 85.4, 79.6, 72.5, 72.0]"
   ]
  },
  {
   "cell_type": "code",
   "execution_count": 10,
   "id": "06cebd82",
   "metadata": {},
   "outputs": [
    {
     "name": "stdout",
     "output_type": "stream",
     "text": [
      "y =-0.45x +92.94\n",
      "the p-value is: 0.011\n"
     ]
    }
   ],
   "source": [
    "# Perform linear regression.\n",
    "(slope, intercept, r_value, p_value, std_err) = linregress(lats, temps)\n",
    "line_eq = 'y ='+str(round(slope,2))+'x +'+str(round(intercept,2))\n",
    "print(line_eq)\n",
    "print(f'the p-value is: {p_value:.3f}')"
   ]
  },
  {
   "cell_type": "code",
   "execution_count": 11,
   "id": "ca9648b9",
   "metadata": {},
   "outputs": [],
   "source": [
    "# Calculate the regression line \"y values\" from the slope and intercept.\n",
    "regress_values = [(lat * slope + intercept) for lat in lats]"
   ]
  },
  {
   "cell_type": "code",
   "execution_count": 16,
   "id": "120e9685",
   "metadata": {},
   "outputs": [
    {
     "data": {
      "image/png": "[encoded data removed]",
      "text/plain": [
       "<Figure size 432x288 with 1 Axes>"
      ]
     },
     "metadata": {
      "needs_background": "light"
     },
     "output_type": "display_data"
    }
   ],
   "source": [
    "# Import Matplotlib.\n",
    "import matplotlib.pyplot as plt\n",
    "\n",
    "# Create a scatter plot of the x and y values.\n",
    "plt.scatter(lats,temps)\n",
    "\n",
    "# Plot the regression line with the x-values and the y coordinates based on the intercept and slope.\n",
    "plt.plot(lats,regress_values,'r')\n",
    "\n",
    "# Annotate the text for the line equation and add its coordinates.\n",
    "plt.annotate(line_eq, (10,40), fontsize=15, color=\"red\")\n",
    "plt.xlabel('Latitude')\n",
    "plt.ylabel('Temp')\n",
    "plt.show()"
   ]
  },
  {
   "cell_type": "code",
   "execution_count": null,
   "id": "babafe61",
   "metadata": {},
   "outputs": [],
   "source": []
  }
 ],
 "metadata": {
  "kernelspec": {
   "display_name": "PythonData",
   "language": "python",
   "name": "pythondata"
  },
  "language_info": {
   "codemirror_mode": {
    "name": "ipython",
    "version": 3
   },
   "file_extension": ".py",
   "mimetype": "text/x-python",
   "name": "python",
   "nbconvert_exporter": "python",
   "pygments_lexer": "ipython3",
   "version": "3.7.11"
  }
 },
 "nbformat": 4,
 "nbformat_minor": 5
}
